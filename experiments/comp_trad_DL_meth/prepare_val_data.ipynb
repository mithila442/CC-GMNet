{
 "cells": [
  {
   "cell_type": "markdown",
   "metadata": {},
   "source": [
    "### Experiment using the validation dataset with individual labels\n",
    "\n",
    "We have asked the organizers to provide the labels for the dev samples of T2. This is the script to create the dataset in order to train with it and make the experiments"
   ]
  },
  {
   "cell_type": "code",
   "execution_count": 1,
   "metadata": {},
   "outputs": [
    {
     "name": "stderr",
     "output_type": "stream",
     "text": [
      "/home/pgonzalez/miniconda3/envs/histnet/lib/python3.9/site-packages/pandas/core/computation/expressions.py:21: UserWarning: Pandas requires version '2.8.4' or newer of 'numexpr' (version '2.7.3' currently installed).\n",
      "  from pandas.core.computation.check import NUMEXPR_INSTALLED\n",
      "/home/pgonzalez/miniconda3/envs/histnet/lib/python3.9/site-packages/pandas/core/arrays/masked.py:60: UserWarning: Pandas requires version '1.3.6' or newer of 'bottleneck' (version '1.3.2' currently installed).\n",
      "  from pandas.core import (\n"
     ]
    }
   ],
   "source": [
    "import numpy as np\n",
    "import os\n",
    "import pandas as pd\n",
    "\n",
    "path = '/media/nas/pgonzalez/lequa2024/T2/public'\n",
    "\n",
    "n_training_samples = 700\n",
    "sample_size = 1000\n",
    "\n",
    "# Number of rows and columns\n",
    "n_rows = n_training_samples*sample_size\n",
    "n_columns = 256\n",
    "\n",
    "# Create zero data for the 256 columns\n",
    "data = np.zeros((n_rows, n_columns))\n",
    "\n",
    "# Create a zero label column\n",
    "data_labels = np.zeros(n_rows, dtype=int)\n",
    "\n",
    "for i in range(n_training_samples):\n",
    "    sample_path = os.path.join(path,'dev_samples',str(i)+'.txt')\n",
    "    sample = pd.read_csv(sample_path).to_numpy()\n",
    "    data[i*sample_size:i*sample_size+sample_size,:]=sample\n",
    "    labels_path = os.path.join(path,'dev_labels',str(i)+'.txt')\n",
    "    labels = pd.read_csv(labels_path).to_numpy().squeeze()\n",
    "    \n",
    "    data_labels[i*sample_size:i*sample_size+sample_size] = labels\n",
    "\n",
    "# Create the DataFrame\n",
    "columns = [str(i) for i in range(n_columns)]\n",
    "df = pd.DataFrame(data, columns=columns)\n",
    "df['label'] = data_labels\n",
    "df = df[['label'] + columns]\n",
    "df.to_csv(os.path.join(path,'validation_training_data.csv'), index=False)\n",
    "\n"
   ]
  }
 ],
 "metadata": {
  "kernelspec": {
   "display_name": "histnet",
   "language": "python",
   "name": "python3"
  },
  "language_info": {
   "codemirror_mode": {
    "name": "ipython",
    "version": 3
   },
   "file_extension": ".py",
   "mimetype": "text/x-python",
   "name": "python",
   "nbconvert_exporter": "python",
   "pygments_lexer": "ipython3",
   "version": "3.9.7"
  }
 },
 "nbformat": 4,
 "nbformat_minor": 2
}
